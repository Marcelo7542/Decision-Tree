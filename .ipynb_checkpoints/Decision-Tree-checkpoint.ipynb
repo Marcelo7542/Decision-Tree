{
 "cells": [
  {
   "cell_type": "code",
   "execution_count": 10,
   "id": "27ac276a-cd1f-4eaf-9b01-75fa1d036f4a",
   "metadata": {},
   "outputs": [],
   "source": [
    "\n",
    "import numpy as np\n",
    "import pandas as pd\n",
    "from sklearn.datasets import make_classification\n",
    "from sklearn.tree import DecisionTreeClassifier,DecisionTreeRegressor, export_graphviz\n",
    "from sklearn.model_selection import train_test_split, RandomizedSearchCV, ShuffleSplit, GridSearchCV\n",
    "from sklearn.decomposition import PCA\n",
    "from sklearn.preprocessing import StandardScaler\n",
    "from sklearn.pipeline import make_pipeline\n",
    "from sklearn.metrics import mean_squared_error\n",
    "from sklearn.ensemble import RandomForestRegressor\n",
    "import scipy.stats as stats\n"
   ]
  },
  {
   "cell_type": "code",
   "execution_count": 11,
   "id": "c6784d8f-d5d5-4264-982c-6a3cce0f22d3",
   "metadata": {},
   "outputs": [
    {
     "name": "stdout",
     "output_type": "stream",
     "text": [
      "MNIST - Shape de X_train: (60000, 784), Shape de X_test: (10000, 784)\n"
     ]
    }
   ],
   "source": [
    "X, y = make_classification(\n",
    "    n_samples=1000,\n",
    "    n_features=2,\n",
    "    n_informative=2,\n",
    "    n_redundant=0,\n",
    "    n_clusters_per_class=1,\n",
    "    random_state=60\n",
    ")"
   ]
  },
  {
   "cell_type": "code",
   "execution_count": null,
   "id": "06d3de49-18bd-48e0-a630-60271ca3d8bd",
   "metadata": {},
   "outputs": [],
   "source": [
    "X_train, X_test, y_train, y_test = train_test_split(X, y, test_size=0.2, random_state=60)\n"
   ]
  },
  {
   "cell_type": "code",
   "execution_count": 13,
   "id": "f243741d-ae88-425a-8819-50317f09470b",
   "metadata": {},
   "outputs": [],
   "source": [
    "pipeline_cl = make_pipeline(StandardScaler(), PCA(), DecisionTreeClassifier(random_state=60))"
   ]
  },
  {
   "cell_type": "code",
   "execution_count": 14,
   "id": "4882c8af-abcb-453d-9e58-f540f22e41ae",
   "metadata": {},
   "outputs": [],
   "source": [
    "param_grid = {\n",
    "    'pca__n_components': np.linspace(0.00001, 0.9999, 60, dtype=float),\n",
    "    'decisiontreeclassifier__max_depth': np.linspace(1, 30, 30, dtype=int),\n",
    "    'decisiontreeclassifier__min_samples_split': np.linspace(2, 51, 50, dtype=int),\n",
    "    'decisiontreeclassifier__min_samples_leaf': np.linspace(1, 50, 50, dtype=int),\n",
    "    'decisiontreeclassifier__max_features': ['sqrt', 'log2', None],\n",
    "    'decisiontreeclassifier__criterion': ['gini', 'entropy'],\n",
    "}\n"
   ]
  },
  {
   "cell_type": "code",
   "execution_count": null,
   "id": "376077cc-8550-4a2e-abbc-1bb8b3cdb4ca",
   "metadata": {},
   "outputs": [],
   "source": [
    "grid_cl = RandomizedSearchCV(pipeline_cl, param_grid,n_iter = 100, n_jobs = 7, random_state= 60)\n",
    "grid_cl.fit(X_train, y_train)"
   ]
  },
  {
   "cell_type": "code",
   "execution_count": null,
   "id": "58f160ea-db65-4c00-bbb7-90b12251fc83",
   "metadata": {},
   "outputs": [],
   "source": [
    "pred_cl = grid_cl.predict(X_test)\n",
    "print(\"Best parameter: \", grid_cl.best_params_)\n",
    "print(\"MSE: \", mean_squared_error(y_test,pred_cl))"
   ]
  },
  {
   "cell_type": "code",
   "execution_count": null,
   "id": "c875ee0e-8f35-4e79-879d-f2b291e33530",
   "metadata": {},
   "outputs": [],
   "source": [
    "best_model = grid_cl.best_estimator_\n",
    "tree_clf = best_model.named_steps['decisiontreeclassifier']\n"
   ]
  },
  {
   "cell_type": "code",
   "execution_count": null,
   "id": "b7123dfc-6700-49ac-b21a-9fb70039974c",
   "metadata": {},
   "outputs": [],
   "source": [
    "\n",
    "data_housing = fetch_california_housing(as_frame=True)\n",
    "\n",
    "\n",
    "feature_names_housing = data_housing.feature_names\n",
    "X_housing = data_housing.data\n",
    "target_housing = data_housing.target\n",
    "\n",
    "print(feature_names_housing)\n"
   ]
  },
  {
   "cell_type": "code",
   "execution_count": null,
   "id": "f1000ed7-5f8c-4b7e-84a7-774f5c87e822",
   "metadata": {},
   "outputs": [],
   "source": [
    "X_train, X_test, y_train, y_test = train_test_split(X_housing, target_housing, test_size = 0.3, random_state=60 )"
   ]
  },
  {
   "cell_type": "code",
   "execution_count": null,
   "id": "1a5c174d-44d7-4e40-afce-872a4de9a9e6",
   "metadata": {},
   "outputs": [],
   "source": [
    "pipeline_rg = make_pipeline(StandardScaler(), PCA(), DecisionTreeRegressor( random_state=60))"
   ]
  },
  {
   "cell_type": "code",
   "execution_count": null,
   "id": "51cbae23-abe2-4eb2-8467-b954ccbc7fd6",
   "metadata": {},
   "outputs": [],
   "source": [
    "param_grid = {\n",
    "    'decisiontreeregressor__criterion': ['squared_error', 'absolute_error'],\n",
    "    'decisiontreeregressor__splitter': ['best', 'random'],\n",
    "    'decisiontreeregressor__max_depth': [3, 5, 10, None],\n",
    "    'decisiontreeregressor__min_samples_split': [5, 10, 20, 30],\n",
    "    'decisiontreeregressor__min_samples_leaf': [5, 10, 20, 30],\n",
    "    'decisiontreeregressor__max_features': [0.2, 0.4, 0.6, None],\n",
    "    'decisiontreeregressor__max_leaf_nodes': [None, 20, 50, 100],\n",
    "    'decisiontreeregressor__min_impurity_decrease': [0.0, 0.01, 0.02]\n",
    "}"
   ]
  },
  {
   "cell_type": "code",
   "execution_count": null,
   "id": "4e91173f-7b28-4a2c-a1f4-2ba4721ffea0",
   "metadata": {},
   "outputs": [],
   "source": [
    "grid_rg = GridSearchCV(pipeline_rg, param_grid, n_jobs = 7, verbose = 3, cv = 3)\n",
    "grid_rg.best_params_.fit(X_train, y_train)"
   ]
  },
  {
   "cell_type": "code",
   "execution_count": null,
   "id": "7fbef616-b58e-40a1-b87b-02ff1ccf861c",
   "metadata": {},
   "outputs": [],
   "source": [
    "pred_rg = grid_rg.best_params_.predict(X_test)\n",
    "print(\"Best parameter: \", grid_rg.best_params_)\n",
    "print(\"MSE: \", mean_squared_error(y_test ,pred_rg))"
   ]
  },
  {
   "cell_type": "code",
   "execution_count": null,
   "id": "dc84a377-a608-46b5-b207-e945aaf31240",
   "metadata": {},
   "outputs": [],
   "source": [
    "param_grid = {\n",
    "    'decisiontreeregressor__criterion': ['squared_error', 'absolute_error'],\n",
    "    'decisiontreeregressor__splitter': ['random'],\n",
    "    'decisiontreeregressor__max_depth': [3, 5, 10, None],\n",
    "    'decisiontreeregressor__min_samples_split': [5, 10, 20],\n",
    "    'decisiontreeregressor__min_samples_leaf': [5, 10, 20],\n",
    "    'decisiontreeregressor__max_features': [0.2, 0.6, None],\n",
    "    'decisiontreeregressor__max_leaf_nodes': [None, 20, 50],\n",
    "    'decisiontreeregressor__min_impurity_decrease': [0.0, 0.01, 0.02]\n",
    "}"
   ]
  },
  {
   "cell_type": "code",
   "execution_count": null,
   "id": "85dba047-f24e-4f90-bc9c-8d17b709adeb",
   "metadata": {},
   "outputs": [],
   "source": [
    "split_s = ShuffleSplit(n_splits=4, test_size=0.3, random_state=60)\n",
    "\n",
    "models = []\n",
    "predictions = []\n",
    "\n",
    "for train_index, test_index in split_s.split(X):\n",
    "    X_train, X_test = X.iloc[train_index], X.iloc[test_index]\n",
    "    y_train, y_test = target.iloc[train_index], target.iloc[test_index]\n",
    "    \n",
    "    pipeline_rg_random = make_pipeline(\n",
    "        StandardScaler(), \n",
    "        PCA(n_components=min(X_train.shape[1], 10)),  \n",
    "        DecisionTreeRegressor(random_state=60)\n",
    "    )\n",
    "    \n",
    "    random_search = GridSearchCV(\n",
    "        pipeline_rg_random, \n",
    "        param_grid, \n",
    "        n_jobs=7, \n",
    "        scoring='neg_mean_squared_error',\n",
    "        cv=3\n",
    "    )\n",
    "    \n",
    "    random_search.fit(X_train, y_train)\n",
    "    pred = random_search.predict(X_test)\n",
    "    models.append(random_search.best_estimator_)\n",
    "    predictions.append(pred)\n",
    "\n"
   ]
  },
  {
   "cell_type": "code",
   "execution_count": null,
   "id": "2ec10c59-40fc-423f-8fd6-c4627913c000",
   "metadata": {},
   "outputs": [],
   "source": [
    "predictions = np.array(predictions)\n",
    "print(predictions)\n",
    "mode_predictions, _ = stats.mode(predictions, axis=0, keepdims=True)\n",
    "mode_predictions = mode_predictions.flatten()\n",
    "\n",
    "mse = mean_squared_error(y_test, mode_predictions)\n",
    "print(\"Mean Squared Error (MSE):\", mse)"
   ]
  },
  {
   "cell_type": "code",
   "execution_count": null,
   "id": "9d94183a-8760-4840-a7ea-95aca46aa91d",
   "metadata": {},
   "outputs": [],
   "source": [
    "param_grid = {\n",
    "    'randomforestregressor__n_estimators': [100, 200],\n",
    "    'randomforestregressor__max_depth': [3, 5, 10, None],\n",
    "    'randomforestregressor__min_samples_split': [5, 10, 20],\n",
    "    'randomforestregressor__min_samples_leaf': [5, 10, 20],\n",
    "    'randomforestregressor__max_features': [0.2, 0.6, None],\n",
    "    'randomforestregressor__max_leaf_nodes': [None, 20, 50],\n",
    "    'randomforestregressor__min_impurity_decrease': [0.0, 0.01, 0.02]\n",
    "}\n"
   ]
  },
  {
   "cell_type": "code",
   "execution_count": null,
   "id": "c4f4d2a0-7668-462e-9eb2-68d4384306eb",
   "metadata": {},
   "outputs": [],
   "source": [
    "modelo_random = make_pipeline(\n",
    "        StandardScaler(), \n",
    "        PCA(n_components=min(X_train.shape[1], 5)),  \n",
    "        RandomForestRegressor(random_state=60)\n",
    "    )"
   ]
  },
  {
   "cell_type": "code",
   "execution_count": null,
   "id": "8eaeee68-3d42-4858-ba88-bb00dfd99499",
   "metadata": {},
   "outputs": [],
   "source": [
    "random_search = GridSearchCV(\n",
    "        modelo_random, \n",
    "        param_grid, \n",
    "        n_jobs=7, \n",
    "        scoring='neg_mean_squared_error',\n",
    "        cv=3\n",
    "    )\n",
    "    \n",
    "random_search.fit(X_train, y_train)\n",
    "pred = random_search.predict(X_test)\n"
   ]
  },
  {
   "cell_type": "code",
   "execution_count": null,
   "id": "3e9f8f59-5e7c-42dc-9fde-d41949815691",
   "metadata": {},
   "outputs": [],
   "source": [
    "mean_squared_error(y_test, pred)"
   ]
  },
  {
   "cell_type": "code",
   "execution_count": null,
   "id": "913f7a53-2eee-423c-a35e-d56989c2f3eb",
   "metadata": {},
   "outputs": [],
   "source": []
  }
 ],
 "metadata": {
  "kernelspec": {
   "display_name": "Python 3 (ipykernel)",
   "language": "python",
   "name": "python3"
  },
  "language_info": {
   "codemirror_mode": {
    "name": "ipython",
    "version": 3
   },
   "file_extension": ".py",
   "mimetype": "text/x-python",
   "name": "python",
   "nbconvert_exporter": "python",
   "pygments_lexer": "ipython3",
   "version": "3.11.7"
  }
 },
 "nbformat": 4,
 "nbformat_minor": 5
}
